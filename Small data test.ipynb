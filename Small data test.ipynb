{
 "cells": [
  {
   "cell_type": "markdown",
   "metadata": {
    "application/vnd.databricks.v1+cell": {
     "cellMetadata": {
      "byteLimit": 2048000,
      "rowLimit": 10000
     },
     "inputWidgets": {},
     "nuid": "5de82fac-0aa7-4687-b80c-de480442ecfe",
     "showTitle": false,
     "title": ""
    }
   },
   "source": [
    "# This is a test of the system using a cut down version of the data"
   ]
  },
  {
   "cell_type": "code",
   "execution_count": 0,
   "metadata": {
    "application/vnd.databricks.v1+cell": {
     "cellMetadata": {
      "byteLimit": 2048000,
      "rowLimit": 10000
     },
     "inputWidgets": {},
     "nuid": "42ccab14-f8c8-4b3d-afee-ffb4de90e4e3",
     "showTitle": false,
     "title": ""
    }
   },
   "outputs": [
    {
     "output_type": "stream",
     "name": "stdout",
     "output_type": "stream",
     "text": [
      "+--------------------+----------+----------+---------------+------------------+-------------+--------------+-----------+--------------+------------+---------+--------+---------+--------------+-------------------+---------------------------------+------------------------+-------------------------------+----------------------+--------------------------+----------------------------+-------------------+-------------------+----------------------------+-------------------------+----------------+-----------------+\n|               legId|searchDate|flightDate|startingAirport|destinationAirport|fareBasisCode|travelDuration|elapsedDays|isBasicEconomy|isRefundable|isNonStop|baseFare|totalFare|seatsRemaining|totalTravelDistance|segmentsDepartureTimeEpochSeconds|segmentsDepartureTimeRaw|segmentsArrivalTimeEpochSeconds|segmentsArrivalTimeRaw|segmentsArrivalAirportCode|segmentsDepartureAirportCode|segmentsAirlineName|segmentsAirlineCode|segmentsEquipmentDescription|segmentsDurationInSeconds|segmentsDistance|segmentsCabinCode|\n+--------------------+----------+----------+---------------+------------------+-------------+--------------+-----------+--------------+------------+---------+--------+---------+--------------+-------------------+---------------------------------+------------------------+-------------------------------+----------------------+--------------------------+----------------------------+-------------------+-------------------+----------------------------+-------------------------+----------------+-----------------+\n|9ca0e81111c683bec...|2022-04-16|2022-04-17|            ATL|               BOS|     LA0NX0MC|       PT2H29M|          0|         False|       False|     True|  217.67|   248.60|             9|                947|                       1650214620|    2022-04-17T12:57:...|                     1650223560|  2022-04-17T15:26:...|                       BOS|                         ATL|              Delta|                 DL|                 Airbus A321|                     8940|             947|            coach|\n+--------------------+----------+----------+---------------+------------------+-------------+--------------+-----------+--------------+------------+---------+--------+---------+--------------+-------------------+---------------------------------+------------------------+-------------------------------+----------------------+--------------------------+----------------------------+-------------------+-------------------+----------------------------+-------------------------+----------------+-----------------+\nonly showing top 1 row\n\n+--------------------+----------+----------+---------------+------------------+-------------+--------------+-----------+--------------+------------+---------+--------+---------+--------------+-------------------+---------------------------------+------------------------+-------------------------------+----------------------+--------------------------+----------------------------+-------------------+-------------------+----------------------------+-------------------------+----------------+-----------------+----+-----+-----+---+\n|               legId|searchDate|flightDate|startingAirport|destinationAirport|fareBasisCode|travelDuration|elapsedDays|isBasicEconomy|isRefundable|isNonStop|baseFare|totalFare|seatsRemaining|totalTravelDistance|segmentsDepartureTimeEpochSeconds|segmentsDepartureTimeRaw|segmentsArrivalTimeEpochSeconds|segmentsArrivalTimeRaw|segmentsArrivalAirportCode|segmentsDepartureAirportCode|segmentsAirlineName|segmentsAirlineCode|segmentsEquipmentDescription|segmentsDurationInSeconds|segmentsDistance|segmentsCabinCode|date|numSA|numDA| ns|\n+--------------------+----------+----------+---------------+------------------+-------------+--------------+-----------+--------------+------------+---------+--------+---------+--------------+-------------------+---------------------------------+------------------------+-------------------------------+----------------------+--------------------------+----------------------------+-------------------+-------------------+----------------------------+-------------------------+----------------+-----------------+----+-----+-----+---+\n|9ca0e81111c683bec...|2022-04-16|2022-04-17|            ATL|               BOS|     LA0NX0MC|       PT2H29M|          0|         False|       False|     True|  217.67|    248.6|             9|                947|                       1650214620|    2022-04-17T12:57:...|                     1650223560|  2022-04-17T15:26:...|                       BOS|                         ATL|              Delta|                 DL|                 Airbus A321|                     8940|             947|            coach| 0.0|  0.0|  0.0|0.0|\n+--------------------+----------+----------+---------------+------------------+-------------+--------------+-----------+--------------+------------+---------+--------+---------+--------------+-------------------+---------------------------------+------------------------+-------------------------------+----------------------+--------------------------+----------------------------+-------------------+-------------------+----------------------------+-------------------------+----------------+-----------------+----+-----+-----+---+\nonly showing top 1 row\n\nTest Accuracy: 0.00\n"
     ]
    },
    {
     "output_type": "display_data",
     "data": {
      "text/html": [
       "<style scoped>\n",
       "  .ansiout {\n",
       "    display: block;\n",
       "    unicode-bidi: embed;\n",
       "    white-space: pre-wrap;\n",
       "    word-wrap: break-word;\n",
       "    word-break: break-all;\n",
       "    font-family: \"Menlo\", \"Monaco\", \"Consolas\", \"Ubuntu Mono\", \"Source Code Pro\", monospace;\n",
       "    font-size: 13px;\n",
       "    color: #555;\n",
       "    margin-left: 4px;\n",
       "    line-height: 19px;\n",
       "  }\n",
       "</style>"
      ]
     },
     "metadata": {
      "application/vnd.databricks.v1+output": {
       "arguments": {},
       "data": "",
       "errorSummary": "",
       "errorTraceType": null,
       "metadata": {},
       "type": "ipynbError"
      }
     },
     "output_type": "display_data"
    }
   ],
   "source": [
    "from pyspark import SparkFiles\n",
    "\n",
    "from pyspark.sql import SparkSession\n",
    "from pyspark.ml import Pipeline\n",
    "from pyspark.ml.regression import GBTRegressor\n",
    "from pyspark.ml.feature import StringIndexer, VectorAssembler, OneHotEncoder, VectorIndexer\n",
    "from pyspark.ml.classification import DecisionTreeClassifier\n",
    "from pyspark.ml.evaluation import MulticlassClassificationEvaluator\n",
    "from pyspark.ml.tuning import CrossValidator, ParamGridBuilder\n",
    "\n",
    "url = \"dbfs:/FileStore/shared_uploads/amir.abdrakmanov@ucalgary.ca/cutdownData.csv\"\n",
    "spark.sparkContext.addFile(url)\n",
    "\n",
    "df = spark.read.csv(url, header=True, inferSchema=False)\n",
    "df.show(1)\n",
    "\n",
    "df =df.withColumn(\"totalFare\",df.totalFare.cast('double'))\n",
    "\n",
    "indexer = StringIndexer(inputCols=[\"flightDate\",\"startingAirport\", \"destinationAirport\", \"isNonStop\"], outputCols=[\"date\",\"numSA\", \"numDA\",\"ns\"])\n",
    "data = indexer.fit(df).transform(df)\n",
    "data.show(1)\n",
    "\n",
    "# Preprocessing: VectorAssembler for feature columns\n",
    "assembler = VectorAssembler(inputCols=[\"date\",\"numSA\", \"numDA\", \"ns\"], outputCol=\"features\")\n",
    "data = assembler.transform(data)\n",
    "\n",
    "train_data, test_data = data.randomSplit([0.8, 0.2], seed=42)\n",
    "\n",
    "regressor = GBTRegressor(labelCol=\"totalFare\", featuresCol=\"features\", maxIter=50)\n",
    "\n",
    "model = regressor.fit(train_data)\n",
    "\n",
    "predictions = model.transform(test_data)\n",
    "\n",
    "# Evaluate the model performance\n",
    "evaluator = RegressionEvaluator(labelCol=\"totalFare\", predictionCol=\"prediction\", metricName=\"accuracy\")\n",
    "accuracy = evaluator.evaluate(predictions)\n",
    "\n",
    "print(f\"Test Accuracy: {accuracy:.2f}\")"
   ]
  },
  {
   "cell_type": "code",
   "execution_count": 0,
   "metadata": {
    "application/vnd.databricks.v1+cell": {
     "cellMetadata": {
      "byteLimit": 2048000,
      "rowLimit": 10000
     },
     "inputWidgets": {},
     "nuid": "13ad4f8c-e27f-48a7-b613-d9bbfbadc61c",
     "showTitle": false,
     "title": ""
    }
   },
   "outputs": [
    {
     "output_type": "stream",
     "name": "stdout",
     "output_type": "stream",
     "text": [
      "+--------------------+----------+----------+---------------+------------------+-------------+--------------+-----------+--------------+------------+---------+--------+---------+--------------+-------------------+---------------------------------+------------------------+-------------------------------+----------------------+--------------------------+----------------------------+--------------------+-------------------+----------------------------+-------------------------+----------------+-----------------+----+-----+-----+---+-----------------+------------------+\n|               legId|searchDate|flightDate|startingAirport|destinationAirport|fareBasisCode|travelDuration|elapsedDays|isBasicEconomy|isRefundable|isNonStop|baseFare|totalFare|seatsRemaining|totalTravelDistance|segmentsDepartureTimeEpochSeconds|segmentsDepartureTimeRaw|segmentsArrivalTimeEpochSeconds|segmentsArrivalTimeRaw|segmentsArrivalAirportCode|segmentsDepartureAirportCode| segmentsAirlineName|segmentsAirlineCode|segmentsEquipmentDescription|segmentsDurationInSeconds|segmentsDistance|segmentsCabinCode|date|numSA|numDA| ns|         features|        prediction|\n+--------------------+----------+----------+---------------+------------------+-------------+--------------+-----------+--------------+------------+---------+--------+---------+--------------+-------------------+---------------------------------+------------------------+-------------------------------+----------------------+--------------------------+----------------------------+--------------------+-------------------+----------------------------+-------------------------+----------------+-----------------+----+-----+-----+---+-----------------+------------------+\n|0f4f714611896ddd6...|2022-04-16|2022-04-17|            ATL|               CLT|     MA0QA0MQ|       PT1H14M|          0|         False|       False|     True|  357.21|    398.6|             3|                228|                       1650237600|    2022-04-17T19:20:...|                     1650242040|  2022-04-17T20:34:...|                       CLT|                         ATL|               Delta|                 DL|                  Boeing 717|                     4440|             228|            coach| 0.0|  0.0|  1.0|0.0|    (4,[2],[1.0])|           418.725|\n|23120be745e40290c...|2022-04-16|2022-04-17|            ATL|               DEN|     QA0NA0MQ|       PT3H14M|          0|         False|       False|     True|  262.33|   296.61|             9|               1207|                       1650217740|    2022-04-17T13:49:...|                     1650229380|  2022-04-17T15:03:...|                       DEN|                         ATL|               Delta|                 DL|                 Airbus A321|                    11640|            1207|            coach| 0.0|  0.0|  2.0|0.0|    (4,[2],[2.0])|280.34699999999947|\n|270a3e706e403f1d6...|2022-04-16|2022-04-17|            ATL|               CLT|     MA0QA0MQ|       PT1H17M|          0|         False|       False|     True|  357.21|    398.6|             4|                228|                       1650222900|    2022-04-17T15:15:...|                     1650227520|  2022-04-17T16:32:...|                       CLT|                         ATL|               Delta|                 DL|                  Boeing 717|                     4620|             228|            coach| 0.0|  0.0|  1.0|0.0|    (4,[2],[1.0])|           418.725|\n|3a3a69378bf84af8c...|2022-04-16|2022-04-17|            ATL|               CLT|     V0AJZSN1|         PT12H|          1|         False|       False|    False|  528.37|    597.2|             1|               1307|             1650240600||16502...|    2022-04-17T20:10:...|           1650249120||16502...|  2022-04-17T22:32:...|                  LGA||CLT|                    ATL||LGA|American Airlines...|             AA||AA|        Embraer 170||Airb...|               8520||7800|        762||545|     coach||coach| 0.0|  0.0|  1.0|1.0|[0.0,0.0,1.0,1.0]|461.46500000000015|\n|562e7d5dd6ecbf150...|2022-04-16|2022-04-17|            ATL|               BOS|     V0AJZNN1|       PT6H38M|          0|         False|       False|    False|  213.02|    251.1|             7|                956|             1650193200||16502...|    2022-04-17T07:00:...|           1650198060||16502...|  2022-04-17T08:21:...|                  CLT||BOS|                    ATL||CLT|American Airlines...|             AA||AA|        Airbus A319||Boei...|               4860||8280|        228||728|     coach||coach| 0.0|  0.0|  0.0|1.0|    (4,[3],[1.0])|302.31050000000005|\n|60cde6285cef2ea1b...|2022-04-16|2022-04-17|            ATL|               DEN|     QA0NA0MQ|       PT3H12M|          0|         False|       False|     True|  262.33|   296.61|             9|               1207|                       1650214080|    2022-04-17T12:48:...|                     1650225600|  2022-04-17T14:00:...|                       DEN|                         ATL|               Delta|                 DL|                 Airbus A321|                    11520|            1207|            coach| 0.0|  0.0|  2.0|0.0|    (4,[2],[2.0])|280.34699999999947|\n|755bc876091cb5997...|2022-04-16|2022-04-17|            ATL|               CLT|     MA0QA0MQ|       PT1H11M|          0|         False|       False|     True|  357.21|    398.6|             9|                228|                       1650212460|    2022-04-17T12:21:...|                     1650216720|  2022-04-17T13:32:...|                       CLT|                         ATL|               Delta|                 DL|                  Boeing 717|                     4260|             228|            coach| 0.0|  0.0|  1.0|0.0|    (4,[2],[1.0])|           418.725|\n|8a6ab300fc0b1f1aa...|2022-04-16|2022-04-17|            ATL|               CLT|     VAA0JKEN|       PT4H23M|          0|         False|       False|    False|  339.53|    388.6|             2|                868|             1650187800||16501...|    2022-04-17T05:30:...|           1650194280||16502...|  2022-04-17T07:18:...|                  IAD||CLT|                    ATL||IAD|      United||United|             UA||UA|        Airbus A319||Embr...|               6480||5580|        541||327|     coach||coach| 0.0|  0.0|  1.0|1.0|[0.0,0.0,1.0,1.0]|461.46500000000015|\n|99666577c217e0a6b...|2022-04-16|2022-04-17|            ATL|               CLT|     M0AHZNN1|       PT1H21M|          0|         False|       False|     True|  357.21|    398.6|             7|                228|                       1650193200|    2022-04-17T07:00:...|                     1650198060|  2022-04-17T08:21:...|                       CLT|                         ATL|   American Airlines|                 AA|                 Airbus A319|                     4860|             228|            coach| 0.0|  0.0|  1.0|0.0|    (4,[2],[1.0])|           418.725|\n|9ca0e81111c683bec...|2022-04-16|2022-04-17|            ATL|               BOS|     LA0NX0MC|       PT2H29M|          0|         False|       False|     True|  217.67|    248.6|             9|                947|                       1650214620|    2022-04-17T12:57:...|                     1650223560|  2022-04-17T15:26:...|                       BOS|                         ATL|               Delta|                 DL|                 Airbus A321|                     8940|             947|            coach| 0.0|  0.0|  0.0|0.0|        (4,[],[])|319.39750000000004|\n|a291a2b5ac19223c3...|2022-04-16|2022-04-17|            ATL|               CLT|     VH0AUEL1|       PT8H48M|          0|         False|       False|    False|  482.79|    542.6|             7|               1675|             1650206700||16502...|    2022-04-17T10:45:...|           1650216180||16502...|  2022-04-17T13:23:...|                  BOS||CLT|                    ATL||BOS|JetBlue Airways||...|             B6||B6|               ||Embraer 190|               9480||8880|        947||728|     coach||coach| 0.0|  0.0|  1.0|1.0|[0.0,0.0,1.0,1.0]|461.46500000000015|\n|a6a69aee2e8f75f9b...|2022-04-16|2022-04-17|            ATL|               BOS|     WAA0AHBN|       PT9H46M|          1|          True|       False|    False|  258.60|    307.2|             9|                947|             1650244980||16502...|    2022-04-17T21:23:...|           1650253320||16502...|  2022-04-17T23:42:...|                  EWR||BOS|                    ATL||EWR|      United||United|             UA||UA|        Airbus A319||Airb...|               8340||4140|        762||185|     coach||coach| 0.0|  0.0|  0.0|1.0|    (4,[3],[1.0])|302.31050000000005|\n|adf4519f6153567d3...|2022-04-16|2022-04-17|            ATL|               CLT|     QAA0JHES|       PT9H48M|          0|         False|       False|    False|  436.28|    498.2|             1|               1307|             1650217680||16502...|    2022-04-17T13:48:...|           1650226020||16502...|  2022-04-17T16:07:...|                  EWR||CLT|                    ATL||EWR|      United||United|             UA||UA|        Embraer 170||Embr...|               8340||7440|        762||545|     coach||coach| 0.0|  0.0|  1.0|1.0|[0.0,0.0,1.0,1.0]|461.46500000000015|\n|c38a6e4b807d15541...|2022-04-16|2022-04-17|            ATL|               BOS|     VAA0AKEN|       PT4H46M|          0|         False|       False|    False|  213.02|    252.6|             1|                947|             1650187800||16501...|    2022-04-17T05:30:...|           1650194280||16502...|  2022-04-17T07:18:...|                  IAD||BOS|                    ATL||IAD|      United||United|             UA||UA|        Airbus A319||Boei...|               6480||5940|        541||406|     coach||coach| 0.0|  0.0|  0.0|1.0|    (4,[3],[1.0])|302.31050000000005|\n|dc2eda19b0499170f...|2022-04-16|2022-04-17|            ATL|               CLT|     M0AHZNN1|       PT1H22M|          0|         False|       False|     True|  357.21|    398.6|             1|                228|                       1650233700|    2022-04-17T18:15:...|                     1650238620|  2022-04-17T19:37:...|                       CLT|                         ATL|   American Airlines|                 AA|        Canadian Regional...|                     4920|             228|            coach| 0.0|  0.0|  1.0|0.0|    (4,[2],[1.0])|           418.725|\n|f089dc3fa43d8a196...|2022-04-16|2022-04-17|            ATL|               BOS|     QAA0JHES|       PT4H40M|          0|         False|       False|    False|  356.28|    406.6|             1|                947|             1650231840||16502...|    2022-04-17T17:44:...|           1650240420||16502...|  2022-04-17T20:07:...|                  EWR||BOS|                    ATL||EWR|      United||United|             UA||UA|        Boeing 737-700||B...|               8580||5100|        762||185|     coach||coach| 0.0|  0.0|  0.0|1.0|    (4,[3],[1.0])|302.31050000000005|\n+--------------------+----------+----------+---------------+------------------+-------------+--------------+-----------+--------------+------------+---------+--------+---------+--------------+-------------------+---------------------------------+------------------------+-------------------------------+----------------------+--------------------------+----------------------------+--------------------+-------------------+----------------------------+-------------------------+----------------+-----------------+----+-----+-----+---+-----------------+------------------+\n\n"
     ]
    },
    {
     "output_type": "display_data",
     "data": {
      "text/html": [
       "<style scoped>\n",
       "  .ansiout {\n",
       "    display: block;\n",
       "    unicode-bidi: embed;\n",
       "    white-space: pre-wrap;\n",
       "    word-wrap: break-word;\n",
       "    word-break: break-all;\n",
       "    font-family: \"Menlo\", \"Monaco\", \"Consolas\", \"Ubuntu Mono\", \"Source Code Pro\", monospace;\n",
       "    font-size: 13px;\n",
       "    color: #555;\n",
       "    margin-left: 4px;\n",
       "    line-height: 19px;\n",
       "  }\n",
       "</style>"
      ]
     },
     "metadata": {
      "application/vnd.databricks.v1+output": {
       "arguments": {},
       "data": "",
       "errorSummary": "",
       "errorTraceType": null,
       "metadata": {},
       "type": "ipynbError"
      }
     },
     "output_type": "display_data"
    }
   ],
   "source": [
    "\n",
    "predictions.show()"
   ]
  }
 ],
 "metadata": {
  "application/vnd.databricks.v1+notebook": {
   "dashboards": [],
   "language": "python",
   "notebookMetadata": {
    "pythonIndentUnit": 4
   },
   "notebookName": "Small data test",
   "widgets": {}
  }
 },
 "nbformat": 4,
 "nbformat_minor": 0
}
